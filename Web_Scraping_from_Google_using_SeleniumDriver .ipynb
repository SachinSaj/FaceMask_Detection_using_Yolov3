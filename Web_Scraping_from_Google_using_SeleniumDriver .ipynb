{
 "cells": [
  {
   "cell_type": "markdown",
   "metadata": {},
   "source": [
    "# Web Scraping"
   ]
  },
  {
   "cell_type": "markdown",
   "metadata": {},
   "source": [
    "#### Web Scraping from Google using Selenium Driver "
   ]
  },
  {
   "cell_type": "code",
   "execution_count": 35,
   "metadata": {},
   "outputs": [],
   "source": [
    "import selenium \n",
    "from selenium import webdriver\n",
    "import time\n",
    "import requests\n",
    "import os\n",
    "from PIL import Image\n",
    "import io\n",
    "import hashlib"
   ]
  },
  {
   "cell_type": "code",
   "execution_count": 36,
   "metadata": {},
   "outputs": [],
   "source": [
    "DRIVER_PATH='chromedriver'"
   ]
  },
  {
   "cell_type": "code",
   "execution_count": 37,
   "metadata": {},
   "outputs": [],
   "source": [
    "def fetch_image_urls(query:str, max_links_to_fetch:int, wd:webdriver, sleep_between_interactions:int=1):\n",
    "    def scroll_to_end(wd):\n",
    "        wd.execute_script(\"window.scrollTo(0, document.body.scrollHeight);\")\n",
    "        time.sleep(sleep_between_interactions)    \n",
    "    \n",
    "    # build the google query\n",
    "    search_url = \"https://www.google.com/search?safe=off&site=&tbm=isch&source=hp&q={q}&oq={q}&gs_l=img\"\n",
    "\n",
    "    # load the page\n",
    "    wd.get(search_url.format(q=query))\n",
    "\n",
    "    image_urls = set()\n",
    "    image_count = 0\n",
    "    results_start = 0\n",
    "    while image_count < max_links_to_fetch:\n",
    "        scroll_to_end(wd)\n",
    "\n",
    "        # get all image thumbnail results\n",
    "        thumbnail_results = wd.find_elements_by_css_selector(\"img.Q4LuWd\")\n",
    "        number_results = len(thumbnail_results)\n",
    "        \n",
    "        print(f\"Found: {number_results} search results. Extracting links from {results_start}:{number_results}\")\n",
    "        \n",
    "        for img in thumbnail_results[results_start:number_results]:\n",
    "            # try to click every thumbnail such that we can get the real image behind it\n",
    "            try:\n",
    "                img.click()\n",
    "                time.sleep(sleep_between_interactions)\n",
    "            except Exception:\n",
    "                continue\n",
    "\n",
    "            # extract image urls    \n",
    "            actual_images = wd.find_elements_by_css_selector('img.n3VNCb')\n",
    "            for actual_image in actual_images:\n",
    "                if actual_image.get_attribute('src') and 'http' in actual_image.get_attribute('src'):\n",
    "                    image_urls.add(actual_image.get_attribute('src'))\n",
    "\n",
    "            image_count = len(image_urls)\n",
    "\n",
    "            if len(image_urls) >= max_links_to_fetch:\n",
    "                print(f\"Found: {len(image_urls)} image links, done!\")\n",
    "                break\n",
    "        else:\n",
    "            print(\"Found:\", len(image_urls), \"image links, looking for more ...\")\n",
    "            time.sleep(60)\n",
    "            return\n",
    "            load_more_button = wd.find_element_by_css_selector(\".mye4qd\")\n",
    "            if load_more_button:\n",
    "                wd.execute_script(\"document.querySelector('.mye4qd').click();\")\n",
    "\n",
    "        # move the result startpoint further down\n",
    "        results_start = len(thumbnail_results)\n",
    "\n",
    "    return image_urls\n"
   ]
  },
  {
   "cell_type": "code",
   "execution_count": 38,
   "metadata": {},
   "outputs": [],
   "source": [
    "def persist_image(folder_path:str,file_name:str,url:str):\n",
    "    try:\n",
    "        image_content = requests.get(url).content\n",
    "\n",
    "    except Exception as e:\n",
    "        print(f\"ERROR - Could not download {url} - {e}\")\n",
    "\n",
    "    try:\n",
    "        image_file = io.BytesIO(image_content)\n",
    "        image = Image.open(image_file).convert('RGB')\n",
    "        folder_path = os.path.join(folder_path,file_name)\n",
    "        if os.path.exists(folder_path):\n",
    "            file_path = os.path.join(folder_path,hashlib.sha1(image_content).hexdigest()[:10] + '.jpg')\n",
    "        else:\n",
    "            os.mkdir(folder_path)\n",
    "            file_path = os.path.join(folder_path,hashlib.sha1(image_content).hexdigest()[:10] + '.jpg')\n",
    "        with open(file_path, 'wb') as f:\n",
    "            image.save(f, \"JPEG\", quality=85)\n",
    "        print(f\"SUCCESS - saved {url} - as {file_path}\")\n",
    "    except Exception as e:\n",
    "        print(f\"ERROR - Could not save {url} - {e}\")"
   ]
  },
  {
   "cell_type": "code",
   "execution_count": 48,
   "metadata": {},
   "outputs": [
    {
     "name": "stdout",
     "output_type": "stream",
     "text": [
      "Found: 100 search results. Extracting links from 0:100\n",
      "Found: 26 image links, done!\n",
      "SUCCESS - saved https://encrypted-tbn0.gstatic.com/images?q=tbn:ANd9GcS218ftpH47Fq1Jg3wTc7ngdIwp79J0O9lDng&usqp=CAU - as downloads\\beautiful people face\\0a14629145.jpg\n",
      "SUCCESS - saved https://encrypted-tbn0.gstatic.com/images?q=tbn:ANd9GcTG8PHdybBDtsCKSmlMt0J3uBdacfXV8iNnJQ&usqp=CAU - as downloads\\beautiful people face\\136b734abc.jpg\n",
      "SUCCESS - saved https://encrypted-tbn0.gstatic.com/images?q=tbn:ANd9GcQCAVGRmqpKYwokgDlDdBsljk2BhEZ46l1V4A&usqp=CAU - as downloads\\beautiful people face\\5ec0921165.jpg\n",
      "SUCCESS - saved https://encrypted-tbn0.gstatic.com/images?q=tbn:ANd9GcS3u47xMU5vZFNPVRjkf6d6OrQqyUqXhJEYxA&usqp=CAU - as downloads\\beautiful people face\\6eac624dc8.jpg\n",
      "SUCCESS - saved https://encrypted-tbn0.gstatic.com/images?q=tbn:ANd9GcSYL1pWlrUn_LaepkOU3-I__laXFcl_Nl3k9g&usqp=CAU - as downloads\\beautiful people face\\9d0478a6f6.jpg\n",
      "SUCCESS - saved https://i.dailymail.co.uk/i/pix/2013/06/03/article-2335098-1A1FC141000005DC-487_306x423.jpg - as downloads\\beautiful people face\\60df848650.jpg\n",
      "SUCCESS - saved https://wl-brightside.cf.tsp.li/resize/1200x630/jpg/b69/4fb/152bc95b7c88b04c584664b0f1.jpg - as downloads\\beautiful people face\\ea8d248cef.jpg\n",
      "SUCCESS - saved https://encrypted-tbn0.gstatic.com/images?q=tbn:ANd9GcS8XXv3EgcXik-BdOdzJkkgQ96xc2-1DF14sA&usqp=CAU - as downloads\\beautiful people face\\a38e48c8bf.jpg\n",
      "SUCCESS - saved https://encrypted-tbn0.gstatic.com/images?q=tbn:ANd9GcTTzBK5x7TyqdH-C7VLktPWmtiwXTC505imMw&usqp=CAU - as downloads\\beautiful people face\\8fcd4b0264.jpg\n",
      "SUCCESS - saved https://manofmany.com/wp-content/uploads/2021/01/Yael-Shelbia.jpg - as downloads\\beautiful people face\\01014138c0.jpg\n",
      "SUCCESS - saved https://encrypted-tbn0.gstatic.com/images?q=tbn:ANd9GcT9HPTntcspqMm1Vy1l_Hkru3Cj_roRgnhqiA&usqp=CAU - as downloads\\beautiful people face\\5432495c61.jpg\n",
      "SUCCESS - saved https://ak.picdn.net/shutterstock/videos/1055939516/thumb/12.jpg - as downloads\\beautiful people face\\4bd49c12ba.jpg\n",
      "SUCCESS - saved https://encrypted-tbn0.gstatic.com/images?q=tbn:ANd9GcSwp5htS-kUBMc5M45oqVo7sTNB9ubWXDv60Q&usqp=CAU - as downloads\\beautiful people face\\a505a6c6b9.jpg\n",
      "SUCCESS - saved https://encrypted-tbn0.gstatic.com/images?q=tbn:ANd9GcTjXh8kKOwd4PYp5xemXrqEVXH2s5BkcBwe_Q&usqp=CAU - as downloads\\beautiful people face\\60a5922b8d.jpg\n",
      "SUCCESS - saved https://previews.123rf.com/images/dolgachov/dolgachov1610/dolgachov161003068/63688862-beauty-people-and-health-concept-beautiful-young-woman-touching-her-face-over-blue-background.jpg - as downloads\\beautiful people face\\215ceefddd.jpg\n",
      "SUCCESS - saved https://images.unsplash.com/photo-1605406575185-776fb76c9319?ixid=MnwxMjA3fDB8MHxzZWFyY2h8NHx8YmVhdXRpZnVsJTIwcGVvcGxlfGVufDB8fDB8fA%3D%3D&ixlib=rb-1.2.1&w=1000&q=80 - as downloads\\beautiful people face\\cd58795355.jpg\n",
      "SUCCESS - saved https://encrypted-tbn0.gstatic.com/images?q=tbn:ANd9GcQ99R4Li0c_iCyp_Rp2O58Z0_WVKQTwSY40Pg&usqp=CAU - as downloads\\beautiful people face\\3b147f9a9f.jpg\n",
      "SUCCESS - saved https://encrypted-tbn0.gstatic.com/images?q=tbn:ANd9GcR2shZ-gUDNYFuBT_keK4ln7om_mzZAiaPdFA&usqp=CAU - as downloads\\beautiful people face\\17adea1a34.jpg\n",
      "SUCCESS - saved https://encrypted-tbn0.gstatic.com/images?q=tbn:ANd9GcSzk9we40wgWRXyLP8lLMdoA_BiaTvvdgaQOg&usqp=CAU - as downloads\\beautiful people face\\c54c4bb08d.jpg\n",
      "SUCCESS - saved https://encrypted-tbn0.gstatic.com/images?q=tbn:ANd9GcSD04yr_RZmshGMThte7gJqsH3oDO_UbOVZrQ&usqp=CAU - as downloads\\beautiful people face\\c8984a4c41.jpg\n",
      "SUCCESS - saved https://c4.wallpaperflare.com/wallpaper/291/654/533/actresses-kate-upton-face-wallpaper-preview.jpg - as downloads\\beautiful people face\\f7df9cd9b3.jpg\n",
      "SUCCESS - saved https://mindbodygreen-res.cloudinary.com/images/w_767,q_auto:eco,f_auto,fl_lossy/org/0zxkzkb9ojxkqxzie/24-things-people-with-beautiful-clear-skin-do-every-day.jpg - as downloads\\beautiful people face\\26ea32db1b.jpg\n",
      "SUCCESS - saved https://encrypted-tbn0.gstatic.com/images?q=tbn:ANd9GcTkxazORV40NiOwT6w9_a4Q2ayhDqyNmHEhFg&usqp=CAU - as downloads\\beautiful people face\\2c9340f92f.jpg\n",
      "SUCCESS - saved https://encrypted-tbn0.gstatic.com/images?q=tbn:ANd9GcRI2HzADCh0A316TtLYh_f73raSjJyOprNDww&usqp=CAU - as downloads\\beautiful people face\\9d57b1a7fb.jpg\n",
      "SUCCESS - saved https://encrypted-tbn0.gstatic.com/images?q=tbn:ANd9GcSSEwlyL5i7Fqh4YJMlzVrlsnnKrlTye_WpeQ&usqp=CAU - as downloads\\beautiful people face\\a9e0caa030.jpg\n",
      "SUCCESS - saved https://i.pinimg.com/564x/a9/27/1e/a9271e4f7830878bccd6ff2b2d2099aa.jpg - as downloads\\beautiful people face\\d97217781b.jpg\n"
     ]
    }
   ],
   "source": [
    "if __name__ == '__main__':\n",
    "    wd = webdriver.Chrome(executable_path=DRIVER_PATH)\n",
    "    queries = [\"beautiful people face\"]  #change your set of querries here\n",
    "    for query in queries:\n",
    "        wd.get('https://google.com')\n",
    "        search_box = wd.find_element_by_css_selector('input.gLFyf')\n",
    "        search_box.send_keys(query)\n",
    "        links = fetch_image_urls(query,25,wd)\n",
    "        images_path = 'downloads'\n",
    "        for i in links:\n",
    "            persist_image(images_path,query,i)\n",
    "    wd.quit()"
   ]
  },
  {
   "cell_type": "code",
   "execution_count": null,
   "metadata": {},
   "outputs": [],
   "source": []
  }
 ],
 "metadata": {
  "kernelspec": {
   "display_name": "Python 3",
   "language": "python",
   "name": "python3"
  },
  "language_info": {
   "codemirror_mode": {
    "name": "ipython",
    "version": 3
   },
   "file_extension": ".py",
   "mimetype": "text/x-python",
   "name": "python",
   "nbconvert_exporter": "python",
   "pygments_lexer": "ipython3",
   "version": "3.7.3"
  }
 },
 "nbformat": 4,
 "nbformat_minor": 2
}
